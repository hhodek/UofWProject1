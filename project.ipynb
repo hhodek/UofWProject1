{
 "cells": [
  {
   "cell_type": "code",
   "execution_count": 1,
   "metadata": {},
   "outputs": [],
   "source": [
    "import matplotlib.pyplot as plt\n",
    "import pandas as pd\n",
    "import scipy.stats as st\n",
    "import numpy as np"
   ]
  },
  {
   "cell_type": "code",
   "execution_count": 7,
   "metadata": {},
   "outputs": [],
   "source": [
    "canada_path = \"canada_project/data/canada_data.csv\"\n",
    "canada_data = pd.read_csv(canada_path)\n",
    "#canada_data"
   ]
  },
  {
   "cell_type": "code",
   "execution_count": 22,
   "metadata": {},
   "outputs": [
    {
     "data": {
      "text/plain": [
       "GEO              14040\n",
       "Age group        14040\n",
       "Sex              14040\n",
       "Response         14040\n",
       "Estimates        14040\n",
       "UOM              14040\n",
       "SCALAR_FACTOR    14040\n",
       "VECTOR           14040\n",
       "VALUE            14040\n",
       "STATUS            8717\n",
       "dtype: int64"
      ]
     },
     "execution_count": 22,
     "metadata": {},
     "output_type": "execute_result"
    }
   ],
   "source": [
    "#canada count test chunk (does not reflect all revisions)\n",
    "canada_rev3.count()"
   ]
  },
  {
   "cell_type": "code",
   "execution_count": 23,
   "metadata": {},
   "outputs": [],
   "source": [
    "#drop blank columns\n",
    "canada_rev1 = canada_data.drop([\"SYMBOL\", \"TERMINATED\"], axis=1)\n",
    "#drop \"duplicate\" or not useful info\n",
    "canada_rev2 = canada_rev1.drop([\"DGUID\", \"SCALAR_ID\", \"UOM_ID\", \"REF_DATE\", \"DECIMALS\"], axis=1) #STATUS column's purpose unknown at this point\n",
    "#setting COORDINATE to index\n",
    "canada_rev3 = canada_rev2.set_index(\"COORDINATE\")\n",
    "#fill missing values in VALUE and STATUS (while STATUS still exists)\n",
    "canada_rev3[\"VALUE\"] = canada_rev3[\"VALUE\"].fillna(\"N/A\")\n",
    "canada_rev3[\"STATUS\"] = canada_rev3[\"STATUS\"].fillna(\"N/A\")"
   ]
  },
  {
   "cell_type": "code",
   "execution_count": 26,
   "metadata": {},
   "outputs": [],
   "source": [
    "#sort into two different dfs: one for percents values and one for raw numbers\n",
    "canada_percent = canada_rev3[canada_rev3[\"UOM\"] != \"Persons\"]\n",
    "canada_persons = canada_rev3[canada_rev3[\"UOM\"] != \"Percent\"]"
   ]
  },
  {
   "cell_type": "code",
   "execution_count": null,
   "metadata": {},
   "outputs": [],
   "source": []
  }
 ],
 "metadata": {
  "kernelspec": {
   "display_name": "Python 3 (ipykernel)",
   "language": "python",
   "name": "python3"
  },
  "language_info": {
   "codemirror_mode": {
    "name": "ipython",
    "version": 3
   },
   "file_extension": ".py",
   "mimetype": "text/x-python",
   "name": "python",
   "nbconvert_exporter": "python",
   "pygments_lexer": "ipython3",
   "version": "3.10.11"
  }
 },
 "nbformat": 4,
 "nbformat_minor": 2
}
