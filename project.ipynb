{
 "cells": [
  {
   "cell_type": "code",
   "execution_count": 1,
   "metadata": {},
   "outputs": [],
   "source": [
    "import matplotlib.pyplot as plt\n",
    "import pandas as pd\n",
    "import scipy.stats as st\n",
    "import numpy as np"
   ]
  },
  {
   "cell_type": "code",
   "execution_count": 7,
   "metadata": {},
   "outputs": [],
   "source": [
    "canada_path = \"canada_project/data/canada_data.csv\"\n",
    "canada_data = pd.read_csv(canada_path)\n",
    "#canada_data"
   ]
  },
  {
   "cell_type": "code",
   "execution_count": 8,
   "metadata": {},
   "outputs": [
    {
     "data": {
      "text/plain": [
       "REF_DATE         14040\n",
       "GEO              14040\n",
       "DGUID            14040\n",
       "Age group        14040\n",
       "Sex              14040\n",
       "Response         14040\n",
       "Estimates        14040\n",
       "UOM              14040\n",
       "UOM_ID           14040\n",
       "SCALAR_FACTOR    14040\n",
       "SCALAR_ID        14040\n",
       "VECTOR           14040\n",
       "COORDINATE       14040\n",
       "VALUE             6231\n",
       "STATUS            8717\n",
       "SYMBOL               0\n",
       "TERMINATED           0\n",
       "DECIMALS         14040\n",
       "dtype: int64"
      ]
     },
     "execution_count": 8,
     "metadata": {},
     "output_type": "execute_result"
    }
   ],
   "source": [
    "canada_data.count()"
   ]
  },
  {
   "cell_type": "code",
   "execution_count": null,
   "metadata": {},
   "outputs": [],
   "source": []
  }
 ],
 "metadata": {
  "kernelspec": {
   "display_name": "Python 3 (ipykernel)",
   "language": "python",
   "name": "python3"
  },
  "language_info": {
   "codemirror_mode": {
    "name": "ipython",
    "version": 3
   },
   "file_extension": ".py",
   "mimetype": "text/x-python",
   "name": "python",
   "nbconvert_exporter": "python",
   "pygments_lexer": "ipython3",
   "version": "3.10.11"
  }
 },
 "nbformat": 4,
 "nbformat_minor": 2
}
